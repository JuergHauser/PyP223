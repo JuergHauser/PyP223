{
 "cells": [
  {
   "cell_type": "markdown",
   "id": "c337ff2d-3748-4b83-8ab2-08b706c8794f",
   "metadata": {},
   "source": [
    "# VtemMax system"
   ]
  },
  {
   "cell_type": "code",
   "execution_count": 1,
   "id": "95211c44-34a9-4be5-bc9d-6ce0d6524ce4",
   "metadata": {},
   "outputs": [],
   "source": [
    "import sys\n",
    "import os\n",
    "import numpy"
   ]
  },
  {
   "cell_type": "code",
   "execution_count": 2,
   "id": "7e65599c-877f-49a4-abce-2bd093c2dc73",
   "metadata": {},
   "outputs": [],
   "source": [
    "cwd=os.getcwd()\n",
    "sys.path.append(cwd+\"/../../python\")\n",
    "sys.path.append(cwd+\"/../python\")\n",
    "sys.path.append(cwd+\"/python\")\n",
    "import pyp223"
   ]
  },
  {
   "cell_type": "markdown",
   "id": "a4981fa9-3075-4dcb-a8ca-54981355bbef",
   "metadata": {},
   "source": [
    "## Forward problem "
   ]
  },
  {
   "cell_type": "markdown",
   "id": "df2b0066-dc80-40c7-905c-24a0a1ca05ac",
   "metadata": {},
   "source": [
    "### Model specification"
   ]
  },
  {
   "cell_type": "code",
   "execution_count": 3,
   "id": "f874f59d-4636-4661-9a96-de931b3a8c1f",
   "metadata": {},
   "outputs": [],
   "source": [
    "# number of layers (inlcuding halfspace)\n",
    "nlyr=2\n",
    "# number of fiducials/stations\n",
    "nstat=1\n",
    "# layer restitvities for each fiducial (Ohm meters) do not include halfspace\n",
    "res=numpy.array([300,1000])\n",
    "# basement resistvity\n",
    "pbres=1000.0\n",
    "# layer thicknesses\n",
    "thk=numpy.ones([(nlyr-1)*nstat])*25.0 \n",
    "# number of thin plates\n",
    "nplt=1\n",
    "# plate location - easting\n",
    "peast=numpy.array([50])\n",
    "# plote location - northing\n",
    "pnorth=numpy.array([25])\n",
    "# plate location - depth\n",
    "ptop=numpy.array([30])\n",
    "# plate resistivity\n",
    "pres=numpy.array([1.0])\n",
    "# plate length 1\n",
    "plngth1=numpy.array([100])\n",
    "# plate length 2\n",
    "plngth2=numpy.array([100])\n",
    "# plate width 1\n",
    "pwdth1=numpy.array([0.0])\n",
    "# plate width 2\n",
    "pwdth2=numpy.array([90])\n",
    "# cell width\n",
    "cellw = 25\n",
    "# plate thickness\n",
    "pthk=numpy.array([1])\n",
    "# dip azimuth\n",
    "pdzm=numpy.deg2rad(numpy.array([90]))\n",
    "# dip\n",
    "pdip=numpy.deg2rad(numpy.array([60]))\n",
    "# plunge\n",
    "plng=numpy.deg2rad(numpy.array([0]))"
   ]
  },
  {
   "cell_type": "markdown",
   "id": "77fd9fe5-e2f8-4953-bcac-4f11c1fbbb5a",
   "metadata": {},
   "source": [
    "### Vtem system specification - current waveform"
   ]
  },
  {
   "cell_type": "code",
   "execution_count": 4,
   "id": "238ec659-a2f8-4fbd-994b-98fa22a22679",
   "metadata": {},
   "outputs": [],
   "source": [
    "### Read gates and waveform\n",
    "fh=open('LeroiAir.cfl')\n",
    "lines=fh.readlines()\n",
    "nsx=int(lines[2].split()[1])\n",
    "nchnl=int(lines[2].split()[4])\n",
    "swx=[]\n",
    "waveform=[]\n",
    "\n",
    "for i in range(nsx):\n",
    "    fields=lines[3+i].split()\n",
    "    swx.append(float(fields[0])/1000.0)\n",
    "    waveform.append(fields[1])\n",
    "\n",
    "topn=[]\n",
    "tcls=[]\n",
    "for i in range(nchnl):\n",
    "    fields=lines[3+nsx+i].split()\n",
    "    topn.append(float(fields[0])/1000.)\n",
    "    tcls.append(float(fields[1])/1000.)\n",
    "\n",
    "\n",
    "swx=numpy.array(swx)\n",
    "waveform=numpy.array(waveform)\n",
    "topn=numpy.array(topn)\n",
    "tcls=numpy.array(tcls)\n",
    "\n",
    "\n",
    "# number of components\n",
    "ncmp=2\n",
    "# active components\n",
    "cmp=2\n",
    "# number transmitter turns\n",
    "ntrn=3\n",
    "# transmitter area\n",
    "txarea=531\n",
    "# number of channels nchnl read from cfl\n",
    "# time at which the channel opens topn read from cfl\n",
    "# time at which the channel closes tcls read from cfl\n",
    "# number of samples on waveform nsx read from cfl\n",
    "# times for waveform swx read from cfl\n",
    "# amplitude type AMPS 0\n",
    "ampt=1\n",
    "# amplitude  waveform read from cfl\n",
    "# transimtter easting/x-pos\n",
    "tx=numpy.array([225.0])\n",
    "# transmitter northing/y-pos\n",
    "ty=numpy.array([100.0])\n",
    "# transimtter height\n",
    "tz=numpy.array([105.0])\n",
    "# transmitter azimuth\n",
    "tazi=numpy.deg2rad(numpy.array([0.0]))\n",
    "# transmitter inclination\n",
    "tincl=numpy.deg2rad(numpy.array([6.]))\n",
    "# receiver easting/x-pos\n",
    "rx=numpy.array([225.])\n",
    "# receiever northin/y-pos\n",
    "ry=numpy.array([-6.])\n",
    "# receiver height/z-pos\n",
    "rz=numpy.array([60.]) \n",
    "# transmiter receiver separation inline\n",
    "trdx=numpy.array([106.])\n",
    "# transmitter receiver separation crossline\n",
    "trdy=numpy.array([0.])\n",
    "# transmitter receiver separation vertical\n",
    "trdz=numpy.array([45.])"
   ]
  },
  {
   "cell_type": "markdown",
   "id": "057e6315-fb84-49bf-8985-56f62e7cae5f",
   "metadata": {},
   "source": [
    "### Model prediction"
   ]
  },
  {
   "cell_type": "code",
   "execution_count": 5,
   "id": "fc9fcc04-dfed-4cde-b118-d1b270f82cda",
   "metadata": {},
   "outputs": [],
   "source": [
    "# response\n",
    "xmodl=numpy.zeros([nchnl*ncmp])\n",
    "# ijac - active elements of Jacobian\n",
    "ijac=None\n",
    "# jacobian\n",
    "a=None\n",
    "# lCounter for leroiair failures\n",
    "leroiair_failure_count=0"
   ]
  },
  {
   "cell_type": "code",
   "execution_count": 6,
   "id": "37b69744-c0ec-4d26-bc7b-d728704aaf1e",
   "metadata": {},
   "outputs": [],
   "source": [
    "leroiair=pyp223.LeroiAir()"
   ]
  },
  {
   "cell_type": "code",
   "execution_count": 7,
   "id": "3c07eb1c-c667-4513-987c-b1e9948c1668",
   "metadata": {},
   "outputs": [],
   "source": [
    "prd=leroiair.formod_vtem_max_data(nlyr,nstat,res,pbres,thk,nplt,peast,pnorth,ptop,pres,\n",
    "                                         plngth1,plngth2,pwdth1,pwdth2,pthk,cellw,\n",
    "                                         pdzm,pdip,plng,\n",
    "                                         ncmp,cmp,\n",
    "                                          ntrn,txarea,\n",
    "                                         nchnl,topn,tcls,\n",
    "                                         nsx,swx,ampt,waveform,\n",
    "                                         tx,ty,tz,tazi,tincl,\n",
    "                                         rx,ry,rz,trdx,trdy,trdz,\n",
    "                                         xmodl,\n",
    "                                         leroiair_failure_count)\n",
    "        "
   ]
  },
  {
   "cell_type": "markdown",
   "id": "5e64b43c-0d21-4393-943a-cb9bb40a8be7",
   "metadata": {},
   "source": [
    "#### Difference in percentage between executable and wrapper"
   ]
  },
  {
   "cell_type": "code",
   "execution_count": 16,
   "id": "86797052-6a63-43d2-80f8-42ae263330b3",
   "metadata": {},
   "outputs": [],
   "source": [
    "fh=open('LeroiAir.out')\n",
    "lines=fh.readlines()\n",
    "ref=numpy.zeros([nchnl,ncmp])\n",
    "\n",
    "ref[:,0]=numpy.array(lines[612].split()[4:])\n",
    "ref[:,1]=numpy.array(lines[622].split()[4:])\n",
    "#(prd-ref)/ref*100.0"
   ]
  },
  {
   "cell_type": "code",
   "execution_count": 17,
   "id": "e6f725cf-ce42-4c49-a039-bad0b635f9e0",
   "metadata": {},
   "outputs": [
    {
     "data": {
      "text/plain": [
       "array([[2.34495031e+05, 5.06687305e+04],\n",
       "       [1.75645094e+05, 3.54890000e+04],\n",
       "       [1.37617922e+05, 2.64118594e+04],\n",
       "       [1.11357820e+05, 2.04867500e+04],\n",
       "       [9.03019297e+04, 1.59666309e+04],\n",
       "       [7.06558359e+04, 1.19532520e+04],\n",
       "       [5.39938477e+04, 8.71509375e+03],\n",
       "       [4.14004961e+04, 6.39737549e+03],\n",
       "       [3.15025879e+04, 4.66452637e+03],\n",
       "       [2.36662852e+04, 3.35508130e+03],\n",
       "       [1.75085137e+04, 2.38049707e+03],\n",
       "       [1.26629648e+04, 1.64671326e+03],\n",
       "       [9.00302441e+03, 1.12144434e+03],\n",
       "       [6.35333301e+03, 7.58515808e+02],\n",
       "       [4.49107227e+03, 5.15018433e+02],\n",
       "       [3.16555396e+03, 3.49644073e+02],\n",
       "       [2.19372852e+03, 2.33111450e+02],\n",
       "       [1.49829895e+03, 1.53482666e+02],\n",
       "       [1.01921594e+03, 1.00728134e+02],\n",
       "       [6.93671204e+02, 6.62479019e+01],\n",
       "       [4.63371307e+02, 4.29136391e+01],\n",
       "       [3.04690918e+02, 2.72626629e+01],\n",
       "       [2.00193665e+02, 1.74117298e+01],\n",
       "       [1.30913925e+02, 1.10713673e+01],\n",
       "       [8.42787628e+01, 6.91364956e+00],\n",
       "       [5.36262131e+01, 4.30836964e+00]])"
      ]
     },
     "execution_count": 17,
     "metadata": {},
     "output_type": "execute_result"
    }
   ],
   "source": [
    "prd"
   ]
  },
  {
   "cell_type": "code",
   "execution_count": null,
   "id": "cbbbd9a4-de08-44a4-978b-c2247aeddc8c",
   "metadata": {},
   "outputs": [],
   "source": []
  }
 ],
 "metadata": {
  "kernelspec": {
   "display_name": "Python 3 (ipykernel)",
   "language": "python",
   "name": "python3"
  },
  "language_info": {
   "codemirror_mode": {
    "name": "ipython",
    "version": 3
   },
   "file_extension": ".py",
   "mimetype": "text/x-python",
   "name": "python",
   "nbconvert_exporter": "python",
   "pygments_lexer": "ipython3",
   "version": "3.11.9"
  }
 },
 "nbformat": 4,
 "nbformat_minor": 5
}
