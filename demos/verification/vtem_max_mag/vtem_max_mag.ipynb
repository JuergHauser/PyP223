{
 "cells": [
  {
   "cell_type": "markdown",
   "id": "c337ff2d-3748-4b83-8ab2-08b706c8794f",
   "metadata": {},
   "source": [
    "# VtemMax system\n",
    "\n",
    "This is the forward model for a waveform given as the cchange of the rpiamry amgnetic field as a function of time in nT/s"
   ]
  },
  {
   "cell_type": "code",
   "execution_count": 1,
   "id": "95211c44-34a9-4be5-bc9d-6ce0d6524ce4",
   "metadata": {},
   "outputs": [],
   "source": [
    "import sys\n",
    "import os\n",
    "import numpy\n",
    "import pyp223"
   ]
  },
  {
   "cell_type": "markdown",
   "id": "a4981fa9-3075-4dcb-a8ca-54981355bbef",
   "metadata": {},
   "source": [
    "## Forward problem "
   ]
  },
  {
   "cell_type": "markdown",
   "id": "df2b0066-dc80-40c7-905c-24a0a1ca05ac",
   "metadata": {},
   "source": [
    "### Model specification"
   ]
  },
  {
   "cell_type": "code",
   "execution_count": 2,
   "id": "f874f59d-4636-4661-9a96-de931b3a8c1f",
   "metadata": {},
   "outputs": [],
   "source": [
    "# number of layers (inlcuding halfspace)\n",
    "nlyr=2\n",
    "# number of fiducials/stations\n",
    "nstat=1\n",
    "# layer restitvities for each fiducial (Ohm meters) do not include halfspace\n",
    "res=numpy.array([300,1000])\n",
    "# basement resistvity\n",
    "pbres=1000.0\n",
    "# layer thicknesses\n",
    "thk=numpy.ones([(nlyr-1)*nstat])*25.0 \n",
    "# number of thin plates\n",
    "nplt=1\n",
    "# plate location - easting\n",
    "peast=numpy.array([50])\n",
    "# plote location - northing\n",
    "pnorth=numpy.array([25])\n",
    "# plate location - depth\n",
    "ptop=numpy.array([30])\n",
    "# plate resistivity\n",
    "pres=numpy.array([1.0])\n",
    "# plate length 1\n",
    "plngth1=numpy.array([100])\n",
    "# plate length 2\n",
    "plngth2=numpy.array([100])\n",
    "# plate width 1\n",
    "pwdth1=numpy.array([0.0])\n",
    "# plate width 2\n",
    "pwdth2=numpy.array([90])\n",
    "# cell width\n",
    "cellw = 25\n",
    "# plate thickness\n",
    "pthk=numpy.array([1])\n",
    "# dip azimuth\n",
    "pdzm=numpy.deg2rad(numpy.array([90]))\n",
    "# dip\n",
    "pdip=numpy.deg2rad(numpy.array([60]))\n",
    "# plunge\n",
    "plng=numpy.deg2rad(numpy.array([0]))"
   ]
  },
  {
   "cell_type": "markdown",
   "id": "77fd9fe5-e2f8-4953-bcac-4f11c1fbbb5a",
   "metadata": {},
   "source": [
    "### Vtem system specification - waveform in nT/s"
   ]
  },
  {
   "cell_type": "code",
   "execution_count": 3,
   "id": "238ec659-a2f8-4fbd-994b-98fa22a22679",
   "metadata": {},
   "outputs": [],
   "source": [
    "### Read gates and waveform\n",
    "fh=open('LeroiAir.cfl')\n",
    "lines=fh.readlines()\n",
    "nsx=int(lines[2].split()[1])\n",
    "nchnl=int(lines[2].split()[4])\n",
    "swx=[]\n",
    "waveform=[]\n",
    "\n",
    "for i in range(nsx):\n",
    "    fields=lines[3+i].split()\n",
    "    swx.append(float(fields[0])/1000.0)\n",
    "    waveform.append(fields[1])\n",
    "\n",
    "topn=[]\n",
    "tcls=[]\n",
    "for i in range(nchnl):\n",
    "    fields=lines[3+nsx+i].split()\n",
    "    topn.append(float(fields[0])/1000.)\n",
    "    tcls.append(float(fields[1])/1000.)\n",
    "\n",
    "swx=numpy.array(swx)\n",
    "waveform=numpy.array(waveform)\n",
    "topn=numpy.array(topn)\n",
    "tcls=numpy.array(tcls)\n",
    "\n",
    "# number of components\n",
    "ncmp=2\n",
    "# active components\n",
    "cmp=2\n",
    "# number transmitter turns\n",
    "ntrn=3\n",
    "# transmitter area\n",
    "txarea=531\n",
    "# number of channels nchnl read from cfl\n",
    "# time at which the channel opens topn read from cfl\n",
    "# time at which the channel closes tcls read from cfl\n",
    "# number of samples on waveform nsx read from cfl\n",
    "# times for waveform swx read from cfl\n",
    "# amplitude type AMPS 0\n",
    "ampt=1\n",
    "# amplitude  waveform read from cfl\n",
    "# transimtter easting/x-pos\n",
    "tx=numpy.array([225.0])\n",
    "# transmitter northing/y-pos\n",
    "ty=numpy.array([100.0])\n",
    "# transimtter height\n",
    "tz=numpy.array([105.0])\n",
    "# transmitter azimuth\n",
    "tazi=numpy.deg2rad(numpy.array([0.0]))\n",
    "# transmitter inclination\n",
    "tincl=numpy.deg2rad(numpy.array([6.]))\n",
    "# receiver easting/x-pos\n",
    "rx=numpy.array([225.])\n",
    "# receiever northin/y-pos\n",
    "ry=numpy.array([100.])\n",
    "# receiver height/z-pos\n",
    "rz=numpy.array([105.]) \n",
    "# transmiter receiver separation inline\n",
    "trdx=numpy.array([0.])\n",
    "# transmitter receiver separation crossline\n",
    "trdy=numpy.array([0.])\n",
    "# transmitter receiver separation vertical\n",
    "trdz=numpy.array([0.])"
   ]
  },
  {
   "cell_type": "markdown",
   "id": "057e6315-fb84-49bf-8985-56f62e7cae5f",
   "metadata": {},
   "source": [
    "### Model prediction"
   ]
  },
  {
   "cell_type": "code",
   "execution_count": 4,
   "id": "fc9fcc04-dfed-4cde-b118-d1b270f82cda",
   "metadata": {},
   "outputs": [],
   "source": [
    "# response\n",
    "xmodl=numpy.zeros([nchnl*ncmp])\n",
    "# ijac - active elements of Jacobian\n",
    "ijac=None\n",
    "# jacobian\n",
    "a=None\n",
    "# lCounter for leroiair failures\n",
    "leroiair_failure_count=0"
   ]
  },
  {
   "cell_type": "code",
   "execution_count": 5,
   "id": "37b69744-c0ec-4d26-bc7b-d728704aaf1e",
   "metadata": {},
   "outputs": [],
   "source": [
    "leroiair=pyp223.LeroiAir()"
   ]
  },
  {
   "cell_type": "code",
   "execution_count": 6,
   "id": "3c07eb1c-c667-4513-987c-b1e9948c1668",
   "metadata": {},
   "outputs": [],
   "source": [
    "prd=leroiair.formod_vtem_max_data(nlyr,nstat,res,pbres,thk,nplt,peast,pnorth,ptop,pres,\n",
    "                                         plngth1,plngth2,pwdth1,pwdth2,pthk,cellw,\n",
    "                                         pdzm,pdip,plng,\n",
    "                                         ncmp,cmp,\n",
    "                                          ntrn,txarea,\n",
    "                                         nchnl,topn,tcls,\n",
    "                                         nsx,swx,ampt,waveform,\n",
    "                                         tx,ty,tz,tazi,tincl,\n",
    "                                         rx,ry,rz,trdx,trdy,trdz,\n",
    "                                         xmodl,\n",
    "                                         leroiair_failure_count)\n",
    "        "
   ]
  },
  {
   "cell_type": "markdown",
   "id": "5e64b43c-0d21-4393-943a-cb9bb40a8be7",
   "metadata": {},
   "source": [
    "#### Difference in percentage between executable and wrapper"
   ]
  },
  {
   "cell_type": "code",
   "execution_count": 7,
   "id": "86797052-6a63-43d2-80f8-42ae263330b3",
   "metadata": {},
   "outputs": [
    {
     "data": {
      "text/plain": [
       "array([[ 0.00221061,  0.00841476],\n",
       "       [-0.00129015, -0.00156351],\n",
       "       [-0.00024511, -0.01663698],\n",
       "       [ 0.00030043,  0.01722498],\n",
       "       [-0.00043597, -0.00388992],\n",
       "       [-0.00032644, -0.00385923],\n",
       "       [-0.00913755, -0.0232829 ],\n",
       "       [ 0.01744496, -0.00092194],\n",
       "       [-0.01238309,  0.00606527],\n",
       "       [ 0.03038035,  0.00320638],\n",
       "       [-0.00371807, -0.00179286],\n",
       "       [ 0.00580893,  0.00355037],\n",
       "       [-0.00963981, -0.01803164],\n",
       "       [ 0.01313059,  0.02060348],\n",
       "       [ 0.02313274,  0.04006326],\n",
       "       [-0.01597157,  0.00461773],\n",
       "       [-0.00358069, -0.00251774],\n",
       "       [ 0.00152381, -0.00870713],\n",
       "       [-0.00955952, -0.01219101],\n",
       "       [-0.01460508, -0.00698462],\n",
       "       [-0.01870645, -0.00801947],\n",
       "       [-0.02925415, -0.0007933 ],\n",
       "       [ 0.00252197,  0.00324536],\n",
       "       [-0.00553192,  0.00913214],\n",
       "       [-0.00273522, -0.00535064],\n",
       "       [-0.00057926,  0.0376802 ]])"
      ]
     },
     "execution_count": 7,
     "metadata": {},
     "output_type": "execute_result"
    }
   ],
   "source": [
    "fh=open('LeroiAir.out')\n",
    "lines=fh.readlines()\n",
    "ref=numpy.zeros([nchnl,ncmp])\n",
    "\n",
    "ref[:,0]=numpy.array(lines[612].split()[4:])\n",
    "ref[:,1]=numpy.array(lines[622].split()[4:])\n",
    "(prd-ref)/ref*100.0"
   ]
  },
  {
   "cell_type": "code",
   "execution_count": null,
   "id": "b9df93ab-3ad1-4090-bef9-847dc10233d2",
   "metadata": {},
   "outputs": [],
   "source": []
  }
 ],
 "metadata": {
  "kernelspec": {
   "display_name": "Python 3 (ipykernel)",
   "language": "python",
   "name": "python3"
  },
  "language_info": {
   "codemirror_mode": {
    "name": "ipython",
    "version": 3
   },
   "file_extension": ".py",
   "mimetype": "text/x-python",
   "name": "python",
   "nbconvert_exporter": "python",
   "pygments_lexer": "ipython3",
   "version": "3.12.2"
  }
 },
 "nbformat": 4,
 "nbformat_minor": 5
}
