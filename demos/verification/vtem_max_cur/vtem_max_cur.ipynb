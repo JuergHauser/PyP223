{
 "cells": [
  {
   "cell_type": "markdown",
   "id": "c337ff2d-3748-4b83-8ab2-08b706c8794f",
   "metadata": {},
   "source": [
    "# VtemMax system\n",
    "\n",
    "This is the forwad model for a transmitter waveform given by the current as a function of time"
   ]
  },
  {
   "cell_type": "code",
   "execution_count": 1,
   "id": "95211c44-34a9-4be5-bc9d-6ce0d6524ce4",
   "metadata": {},
   "outputs": [],
   "source": [
    "import sys\n",
    "import os\n",
    "import numpy\n",
    "import pyp223"
   ]
  },
  {
   "cell_type": "markdown",
   "id": "a4981fa9-3075-4dcb-a8ca-54981355bbef",
   "metadata": {},
   "source": [
    "## Forward problem "
   ]
  },
  {
   "cell_type": "markdown",
   "id": "df2b0066-dc80-40c7-905c-24a0a1ca05ac",
   "metadata": {},
   "source": [
    "### Model specification"
   ]
  },
  {
   "cell_type": "code",
   "execution_count": 2,
   "id": "f874f59d-4636-4661-9a96-de931b3a8c1f",
   "metadata": {},
   "outputs": [],
   "source": [
    "# number of layers (inlcuding halfspace)\n",
    "nlyr=2\n",
    "# number of fiducials/stations\n",
    "nstat=1\n",
    "# layer restitvities for each fiducial (Ohm meters) do not include halfspace\n",
    "res=numpy.array([300,1000])\n",
    "# basement resistvity\n",
    "pbres=1000.0\n",
    "# layer thicknesses\n",
    "thk=numpy.ones([(nlyr-1)*nstat])*25.0 \n",
    "# number of thin plates\n",
    "nplt=1\n",
    "# plate location - easting\n",
    "peast=numpy.array([50])\n",
    "# plote location - northing\n",
    "pnorth=numpy.array([25])\n",
    "# plate location - depth\n",
    "ptop=numpy.array([30])\n",
    "# plate resistivity\n",
    "pres=numpy.array([1.0])\n",
    "# plate length 1\n",
    "plngth1=numpy.array([100])\n",
    "# plate length 2\n",
    "plngth2=numpy.array([100])\n",
    "# plate width 1\n",
    "pwdth1=numpy.array([0.0])\n",
    "# plate width 2\n",
    "pwdth2=numpy.array([90])\n",
    "# cell width\n",
    "cellw = 25\n",
    "# plate thickness\n",
    "pthk=numpy.array([1])\n",
    "# dip azimuth\n",
    "pdzm=numpy.deg2rad(numpy.array([90]))\n",
    "# dip\n",
    "pdip=numpy.deg2rad(numpy.array([60]))\n",
    "# plunge\n",
    "plng=numpy.deg2rad(numpy.array([0]))"
   ]
  },
  {
   "cell_type": "markdown",
   "id": "77fd9fe5-e2f8-4953-bcac-4f11c1fbbb5a",
   "metadata": {},
   "source": [
    "### Vtem system specification - current waveform"
   ]
  },
  {
   "cell_type": "code",
   "execution_count": 3,
   "id": "238ec659-a2f8-4fbd-994b-98fa22a22679",
   "metadata": {},
   "outputs": [],
   "source": [
    "### Read gates and waveform\n",
    "fh=open('LeroiAir.cfl')\n",
    "lines=fh.readlines()\n",
    "nsx=int(lines[2].split()[1])\n",
    "nchnl=int(lines[2].split()[4])\n",
    "swx=[]\n",
    "waveform=[]\n",
    "\n",
    "for i in range(nsx):\n",
    "    fields=lines[3+i].split()\n",
    "    swx.append(float(fields[0])/1000.0)\n",
    "    waveform.append(fields[1])\n",
    "\n",
    "topn=[]\n",
    "tcls=[]\n",
    "for i in range(nchnl):\n",
    "    fields=lines[3+nsx+i].split()\n",
    "    topn.append(float(fields[0])/1000.)\n",
    "    tcls.append(float(fields[1])/1000.)\n",
    "\n",
    "\n",
    "swx=numpy.array(swx)\n",
    "waveform=numpy.array(waveform)\n",
    "topn=numpy.array(topn)\n",
    "tcls=numpy.array(tcls)\n",
    "\n",
    "\n",
    "# number of components\n",
    "ncmp=2\n",
    "# active components\n",
    "cmp=2\n",
    "# number transmitter turns\n",
    "ntrn=3\n",
    "# transmitter area\n",
    "txarea=531\n",
    "# number of channels nchnl read from cfl\n",
    "# time at which the channel opens topn read from cfl\n",
    "# time at which the channel closes tcls read from cfl\n",
    "# number of samples on waveform nsx read from cfl\n",
    "# times for waveform swx read from cfl\n",
    "# amplitude type AMPS 0\n",
    "ampt=0\n",
    "# amplitude  waveform read from cfl\n",
    "# transimtter easting/x-pos\n",
    "tx=numpy.array([225.0])\n",
    "# transmitter northing/y-pos\n",
    "ty=numpy.array([100.0])\n",
    "# transimtter height\n",
    "tz=numpy.array([105.0])\n",
    "# transmitter azimuth\n",
    "tazi=numpy.deg2rad(numpy.array([0.0]))\n",
    "# transmitter inclination\n",
    "tincl=numpy.deg2rad(numpy.array([6.]))\n",
    "# receiver easting/x-pos\n",
    "rx=numpy.array([225.])\n",
    "# receiever northin/y-pos\n",
    "ry=numpy.array([100.])\n",
    "# receiver height/z-pos\n",
    "rz=numpy.array([105.]) \n",
    "# transmiter receiver separation inline\n",
    "trdx=numpy.array([0.])\n",
    "# transmitter receiver separation crossline\n",
    "trdy=numpy.array([0.])\n",
    "# transmitter receiver separation vertical\n",
    "trdz=numpy.array([0.])"
   ]
  },
  {
   "cell_type": "markdown",
   "id": "057e6315-fb84-49bf-8985-56f62e7cae5f",
   "metadata": {},
   "source": [
    "### Model prediction"
   ]
  },
  {
   "cell_type": "code",
   "execution_count": 4,
   "id": "fc9fcc04-dfed-4cde-b118-d1b270f82cda",
   "metadata": {},
   "outputs": [],
   "source": [
    "# response\n",
    "xmodl=numpy.zeros([nchnl*ncmp])\n",
    "# ijac - active elements of Jacobian\n",
    "ijac=None\n",
    "# jacobian\n",
    "a=None\n",
    "# lCounter for leroiair failures\n",
    "leroiair_failure_count=0"
   ]
  },
  {
   "cell_type": "code",
   "execution_count": 5,
   "id": "37b69744-c0ec-4d26-bc7b-d728704aaf1e",
   "metadata": {},
   "outputs": [],
   "source": [
    "leroiair=pyp223.LeroiAir()"
   ]
  },
  {
   "cell_type": "code",
   "execution_count": 6,
   "id": "3c07eb1c-c667-4513-987c-b1e9948c1668",
   "metadata": {},
   "outputs": [],
   "source": [
    "prd=leroiair.formod_vtem_max_data(nlyr,nstat,res,pbres,thk,nplt,peast,pnorth,ptop,pres,\n",
    "                                         plngth1,plngth2,pwdth1,pwdth2,pthk,cellw,\n",
    "                                         pdzm,pdip,plng,\n",
    "                                         ncmp,cmp,\n",
    "                                          ntrn,txarea,\n",
    "                                         nchnl,topn,tcls,\n",
    "                                         nsx,swx,ampt,waveform,\n",
    "                                         tx,ty,tz,tazi,tincl,\n",
    "                                         rx,ry,rz,trdx,trdy,trdz,\n",
    "                                         xmodl,\n",
    "                                         leroiair_failure_count)\n",
    "        "
   ]
  },
  {
   "cell_type": "markdown",
   "id": "5e64b43c-0d21-4393-943a-cb9bb40a8be7",
   "metadata": {},
   "source": [
    "#### Difference in percentage between executable and wrapper"
   ]
  },
  {
   "cell_type": "code",
   "execution_count": 7,
   "id": "86797052-6a63-43d2-80f8-42ae263330b3",
   "metadata": {},
   "outputs": [],
   "source": [
    "fh=open('LeroiAir.out')\n",
    "lines=fh.readlines()\n",
    "ref=numpy.zeros([nchnl,ncmp])\n",
    "\n",
    "ref[:,0]=numpy.concatenate((numpy.array(lines[3388].split()[4:]),numpy.array(lines[3395].split()[4:])),axis=0)\n",
    "ref[:,1]=numpy.concatenate((numpy.array(lines[3405].split()[4:]),numpy.array(lines[3412].split()[4:])),axis=0)"
   ]
  },
  {
   "cell_type": "code",
   "execution_count": 8,
   "id": "7e6fa098-9619-4a4c-b4b7-63ba0d204fad",
   "metadata": {},
   "outputs": [
    {
     "data": {
      "text/plain": [
       "array([[-8.55280838e-03,  1.91985028e-02],\n",
       "       [ 6.89629183e-03, -6.58995055e-03],\n",
       "       [-8.04310345e-03, -1.35632954e-02],\n",
       "       [ 1.04646545e-02, -2.79173951e-02],\n",
       "       [ 4.62962963e-04, -5.84653756e-03],\n",
       "       [-1.04472141e-02,  5.15321869e-03],\n",
       "       [-1.66794479e-02, -1.65130343e-03],\n",
       "       [ 1.06953320e-03, -7.47082484e-03],\n",
       "       [ 4.08561862e-04, -4.91293266e-03],\n",
       "       [ 3.37796150e-03,  1.54272421e-02],\n",
       "       [-1.56250000e-02, -2.15844917e-02],\n",
       "       [ 2.55569495e-02,  3.79486312e-03],\n",
       "       [-2.66181989e-02, -8.04582904e-05],\n",
       "       [-2.16289302e-03, -3.78602212e-03],\n",
       "       [-5.35196599e-03, -2.99047754e-03],\n",
       "       [ 4.16694036e-03,  1.89679477e-02],\n",
       "       [ 4.38965012e-03, -2.65330502e-02],\n",
       "       [ 4.56800245e-03,  1.99172934e-02],\n",
       "       [-2.47827875e-02, -2.52624695e-03],\n",
       "       [-2.89887885e-02, -1.26100691e-03],\n",
       "       [ 4.56885222e-02, -1.26960142e-03],\n",
       "       [-5.15382249e-03,  6.71456156e-03],\n",
       "       [ 2.56796498e-03, -1.13212643e-02],\n",
       "       [ 4.79495179e-03, -7.80464178e-03],\n",
       "       [ 5.15605991e-03,  1.05741353e-03],\n",
       "       [-2.73625475e-03,  1.10843170e-02],\n",
       "       [ 3.56119274e-03, -2.17919996e-02],\n",
       "       [ 7.97384728e-03,  1.62488292e-02],\n",
       "       [ 1.11119414e-02, -6.18323001e-03],\n",
       "       [-3.26914330e-02, -6.44141190e-03],\n",
       "       [-4.12370142e-03, -6.10969459e-03],\n",
       "       [ 5.80582716e-03, -1.41035482e-02],\n",
       "       [-2.38489665e-03, -1.37824258e-02],\n",
       "       [ 1.22550904e-02, -2.45035290e-02],\n",
       "       [-1.28540470e-02, -3.15704653e-02],\n",
       "       [-1.93590395e-03, -1.61320624e-02],\n",
       "       [-2.03086494e-02, -3.02392629e-03],\n",
       "       [-3.58511161e-02, -7.81343694e-04],\n",
       "       [ 2.01432634e-03,  1.04910284e-02],\n",
       "       [-4.55789594e-03, -1.46639236e-02],\n",
       "       [ 9.98690977e-03,  7.54363591e-03],\n",
       "       [ 3.11810037e-03,  2.50702630e-02],\n",
       "       [ 1.68066070e-02,  3.06314656e-03],\n",
       "       [ 3.98477992e-02,  1.19145121e-03]])"
      ]
     },
     "execution_count": 8,
     "metadata": {},
     "output_type": "execute_result"
    }
   ],
   "source": [
    "(prd-ref)/ref*100.0"
   ]
  }
 ],
 "metadata": {
  "kernelspec": {
   "display_name": "Python 3 (ipykernel)",
   "language": "python",
   "name": "python3"
  },
  "language_info": {
   "codemirror_mode": {
    "name": "ipython",
    "version": 3
   },
   "file_extension": ".py",
   "mimetype": "text/x-python",
   "name": "python",
   "nbconvert_exporter": "python",
   "pygments_lexer": "ipython3",
   "version": "3.12.3"
  }
 },
 "nbformat": 4,
 "nbformat_minor": 5
}
