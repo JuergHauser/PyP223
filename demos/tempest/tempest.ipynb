{
 "cells": [
  {
   "cell_type": "code",
   "execution_count": 25,
   "id": "95211c44-34a9-4be5-bc9d-6ce0d6524ce4",
   "metadata": {},
   "outputs": [],
   "source": [
    "import sys\n",
    "import os\n",
    "import numpy"
   ]
  },
  {
   "cell_type": "code",
   "execution_count": 26,
   "id": "7e65599c-877f-49a4-abce-2bd093c2dc73",
   "metadata": {},
   "outputs": [],
   "source": [
    "cwd=os.getcwd()\n",
    "sys.path.append(cwd+\"/../../python\")\n",
    "sys.path.append(cwd+\"/../python\")\n",
    "sys.path.append(cwd+\"/python\")\n",
    "import pyp223"
   ]
  },
  {
   "cell_type": "markdown",
   "id": "a4981fa9-3075-4dcb-a8ca-54981355bbef",
   "metadata": {},
   "source": [
    "## Forward problem "
   ]
  },
  {
   "cell_type": "markdown",
   "id": "df2b0066-dc80-40c7-905c-24a0a1ca05ac",
   "metadata": {},
   "source": [
    "### Model specification"
   ]
  },
  {
   "cell_type": "code",
   "execution_count": 27,
   "id": "f874f59d-4636-4661-9a96-de931b3a8c1f",
   "metadata": {},
   "outputs": [],
   "source": [
    "# number of layers (inlcuding halfspace)\n",
    "nlyr=2\n",
    "# number of fiducials/stations\n",
    "nstat=1\n",
    "# layer restitvities for each fiducial (Ohm meters) do not include halfspace\n",
    "res=numpy.array([300,1000])\n",
    "# basement resistvity\n",
    "pbres=1000.0\n",
    "# layer thicknesses\n",
    "thk=numpy.ones([(nlyr-1)*nstat])*25.0 \n",
    "# number of thin plates\n",
    "nplt=1\n",
    "# plate location - easting\n",
    "peast=numpy.array([50])\n",
    "# plote location - northing\n",
    "pnorth=numpy.array([25])\n",
    "# plate location - depth\n",
    "ptop=numpy.array([30])\n",
    "# plate resistivity\n",
    "pres=numpy.array([1.0])\n",
    "# plate length 1\n",
    "plngth1=numpy.array([100])\n",
    "# plate length 2\n",
    "plngth2=numpy.array([100])\n",
    "# plate width 1\n",
    "pwdth1=numpy.array([0.0])\n",
    "# plate width 2\n",
    "pwdth2=numpy.array([90])\n",
    "# cell width\n",
    "cellw = 25\n",
    "# plate thickness\n",
    "pthk=numpy.array([1])\n",
    "# dip azimuth\n",
    "pdzm=numpy.deg2rad(numpy.array([90]))\n",
    "# dip\n",
    "pdip=numpy.deg2rad(numpy.array([60]))\n",
    "# plunge\n",
    "plng=numpy.deg2rad(numpy.array([0]))"
   ]
  },
  {
   "cell_type": "markdown",
   "id": "77fd9fe5-e2f8-4953-bcac-4f11c1fbbb5a",
   "metadata": {},
   "source": [
    "### Tempest system specification"
   ]
  },
  {
   "cell_type": "code",
   "execution_count": 28,
   "id": "238ec659-a2f8-4fbd-994b-98fa22a22679",
   "metadata": {},
   "outputs": [],
   "source": [
    "# number of components\n",
    "ncmp=2\n",
    "# active components\n",
    "cmp=2\n",
    "# number of channels\n",
    "nchnl=15\n",
    "# time at which the channel opens \n",
    "topn=numpy.array([0.000007,0.000033,0.000060,0.000087,0.000140,0.000220,0.000353,0.000567,0.000887,0.001367,0.002113,0.003287,0.005127,0.008007,0.012407])\n",
    "# time at which the channel closes\n",
    "tcls=numpy.array([0.000020,0.000047,0.000073,0.000127,0.000207,0.000340,0.000553,0.000873,0.001353,0.002100,0.003273,0.005113,0.007993,0.012393,0.019993])\n",
    "# transimtter easting/x-pos\n",
    "tx=numpy.array([225.0])\n",
    "# transmitter northing/y-pos\n",
    "ty=numpy.array([100.0])\n",
    "# transimtter height\n",
    "tz=numpy.array([105.0])\n",
    "# transmitter azimuth\n",
    "tazi=numpy.deg2rad(numpy.array([0.0]))\n",
    "# transmitter inclination\n",
    "tincl=numpy.deg2rad(numpy.array([6.]))\n",
    "# receiver easting/x-pos\n",
    "rx=numpy.array([225.])\n",
    "# receiever northin/y-pos\n",
    "ry=numpy.array([-6.])\n",
    "# receiver height/z-pos\n",
    "rz=numpy.array([60.]) \n",
    "# transmiter receiver separation inline\n",
    "trdx=numpy.array([106.])\n",
    "# transmitter receiver separation crossline\n",
    "trdy=numpy.array([0.])\n",
    "# transmitter receiver separation vertical\n",
    "trdz=numpy.array([45.])"
   ]
  },
  {
   "cell_type": "markdown",
   "id": "057e6315-fb84-49bf-8985-56f62e7cae5f",
   "metadata": {},
   "source": [
    "### Model prediction"
   ]
  },
  {
   "cell_type": "code",
   "execution_count": 29,
   "id": "fc9fcc04-dfed-4cde-b118-d1b270f82cda",
   "metadata": {},
   "outputs": [],
   "source": [
    "# response\n",
    "xmodl=numpy.zeros([nchnl*ncmp])\n",
    "# ijac - active elements of Jacobian\n",
    "ijac=None\n",
    "# jacobian\n",
    "a=None\n",
    "# lCounter for leroiair failures\n",
    "leroiair_failure_count=0"
   ]
  },
  {
   "cell_type": "code",
   "execution_count": 30,
   "id": "37b69744-c0ec-4d26-bc7b-d728704aaf1e",
   "metadata": {},
   "outputs": [],
   "source": [
    "leroiair=pyp223.LeroiAir()"
   ]
  },
  {
   "cell_type": "code",
   "execution_count": 31,
   "id": "3c07eb1c-c667-4513-987c-b1e9948c1668",
   "metadata": {},
   "outputs": [
    {
     "name": "stdout",
     "output_type": "stream",
     "text": [
      "   25.0000000    \n"
     ]
    }
   ],
   "source": [
    "prd=leroiair.formod_tempest_data(nlyr,nstat,res,pbres,thk,nplt,peast,pnorth,ptop,pres,\n",
    "                                         plngth1,plngth2,pwdth1,pwdth2,pthk,cellw,\n",
    "                                         pdzm,pdip,plng,\n",
    "                                         ncmp,cmp,\n",
    "                                         nchnl,topn,tcls,\n",
    "                                         tx,ty,tz,tazi,tincl,\n",
    "                                         rx,ry,rz,trdx,trdy,trdz,\n",
    "                                         xmodl,\n",
    "                                         leroiair_failure_count)\n",
    "        "
   ]
  },
  {
   "cell_type": "markdown",
   "id": "5e64b43c-0d21-4393-943a-cb9bb40a8be7",
   "metadata": {},
   "source": [
    "#### Difference in percentage between executable and wrapper"
   ]
  },
  {
   "cell_type": "code",
   "execution_count": 32,
   "id": "86797052-6a63-43d2-80f8-42ae263330b3",
   "metadata": {},
   "outputs": [
    {
     "data": {
      "text/plain": [
       "array([[-0.00156544,  0.0098017 ],\n",
       "       [-0.01560286, -0.0047519 ],\n",
       "       [ 0.00187759, -0.00557184],\n",
       "       [ 0.00407808,  0.00892749],\n",
       "       [ 0.03712242,  0.01170836],\n",
       "       [-0.00251672,  0.00079934],\n",
       "       [-0.00148584,  0.00211415],\n",
       "       [-0.01965858, -0.02593207],\n",
       "       [ 0.005448  , -0.00141117],\n",
       "       [-0.00562738,  0.00969008],\n",
       "       [-0.00628899, -0.01200994],\n",
       "       [-0.01016135,  0.00066049],\n",
       "       [ 0.0060422 , -0.00584195],\n",
       "       [-0.00372972, -0.0219901 ],\n",
       "       [ 0.01174801,  0.03140754]])"
      ]
     },
     "execution_count": 32,
     "metadata": {},
     "output_type": "execute_result"
    }
   ],
   "source": [
    "fh=open('LeroiAir.out')\n",
    "lines=fh.readlines()\n",
    "ref=numpy.zeros([nchnl,ncmp])\n",
    "ref[:,0]=numpy.array(lines[157].split()[4:])\n",
    "ref[:,1]=numpy.array(lines[167].split()[4:])\n",
    "(prd-ref)/ref*100.0"
   ]
  }
 ],
 "metadata": {
  "kernelspec": {
   "display_name": "Python 3 (ipykernel)",
   "language": "python",
   "name": "python3"
  },
  "language_info": {
   "codemirror_mode": {
    "name": "ipython",
    "version": 3
   },
   "file_extension": ".py",
   "mimetype": "text/x-python",
   "name": "python",
   "nbconvert_exporter": "python",
   "pygments_lexer": "ipython3",
   "version": "3.11.9"
  }
 },
 "nbformat": 4,
 "nbformat_minor": 5
}
